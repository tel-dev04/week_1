{
 "cells": [
  {
   "cell_type": "code",
   "execution_count": 3,
   "id": "5bcec862-7eba-4211-b9f9-453a71fa2960",
   "metadata": {},
   "outputs": [
    {
     "name": "stdout",
     "output_type": "stream",
     "text": [
      "Name: Mohammad\n",
      "Age: 20\n",
      "Height: 1.75\n"
     ]
    }
   ],
   "source": [
    "# تعريف متغيرات\n",
    "name = \"Mohammad\"\n",
    "age = 20\n",
    "height = 1.75  # متر\n",
    "\n",
    "print(\"Name:\", name)\n",
    "print(\"Age:\", age)\n",
    "print(\"Height:\", height)\n"
   ]
  },
  {
   "cell_type": "code",
   "execution_count": 4,
   "id": "14c53dfd-a062-40e6-8452-6adc623576ee",
   "metadata": {
    "scrolled": true
   },
   "outputs": [
    {
     "name": "stdout",
     "output_type": "stream",
     "text": [
      "Third element: 30\n",
      "Updated list: [10, 25, 30, 40, 50]\n"
     ]
    }
   ],
   "source": [
    "# إنشاء قائمة\n",
    "numbers = [10, 20, 30, 40, 50]\n",
    "\n",
    "# طباعة عنصر محدد (الرقم الثالث)\n",
    "print(\"Third element:\", numbers[2])\n",
    "\n",
    "# تعديل عنصر\n",
    "numbers[1] = 25\n",
    "print(\"Updated list:\", numbers)\n"
   ]
  },
  {
   "cell_type": "code",
   "execution_count": null,
   "id": "ce721b50-df90-4154-9ced-a41011efb0a6",
   "metadata": {},
   "outputs": [],
   "source": [
    "# طباعة كل رقم مضروب ×2\n",
    "for n in numbers:\n",
    "    print(\"Double:\", n * 2)\n"
   ]
  },
  {
   "cell_type": "code",
   "execution_count": 2,
   "id": "9b4f2eeb-b3e9-4e4e-9b7a-0843ec5b23c2",
   "metadata": {},
   "outputs": [
    {
     "name": "stdout",
     "output_type": "stream",
     "text": [
      "Good\n"
     ]
    }
   ],
   "source": [
    "score = 85\n",
    "\n",
    "if score >= 90:\n",
    "    print(\"Excellent\")\n",
    "elif score >= 70:\n",
    "    print(\"Good\")\n",
    "else:\n",
    "    print(\"Needs improvement\")\n"
   ]
  },
  {
   "cell_type": "code",
   "execution_count": null,
   "id": "a5c20b6c-9937-4fc4-aef0-8a491ba47987",
   "metadata": {},
   "outputs": [],
   "source": []
  },
  {
   "cell_type": "code",
   "execution_count": null,
   "id": "b23507f9-56b7-457d-ba8a-4e5fb63dd06e",
   "metadata": {},
   "outputs": [],
   "source": []
  }
 ],
 "metadata": {
  "kernelspec": {
   "display_name": "Python 3 (ipykernel)",
   "language": "python",
   "name": "python3"
  },
  "language_info": {
   "codemirror_mode": {
    "name": "ipython",
    "version": 3
   },
   "file_extension": ".py",
   "mimetype": "text/x-python",
   "name": "python",
   "nbconvert_exporter": "python",
   "pygments_lexer": "ipython3",
   "version": "3.13.5"
  }
 },
 "nbformat": 4,
 "nbformat_minor": 5
}
